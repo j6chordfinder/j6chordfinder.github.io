{
 "cells": [
  {
   "cell_type": "code",
   "execution_count": 31,
   "metadata": {},
   "outputs": [],
   "source": [
    "import pandas as pd\n",
    "import json\n",
    "import numpy as np"
   ]
  },
  {
   "cell_type": "code",
   "execution_count": 11,
   "metadata": {},
   "outputs": [],
   "source": [
    "chordmeta_df = pd.read_csv('chord_metadata.csv')\n",
    "chordmeta_dict = {}\n",
    "for row in chordmeta_df.iterrows():\n",
    "    chordmeta_dict[row[1]['Chord']] = {'Root': row[1]['Root'],\n",
    "            'FlatSharpStep': row[1]['FlatSharpStep'],\n",
    "            'Major': row[1]['Major'],\n",
    "            'Minor': row[1]['Minor'],\n",
    "            'AugAddDimSus': row[1]['AugAddDimSus']}\n",
    "\n",
    "with open('chordMeta.json', 'w') as file:\n",
    "    json.dump(chordmeta_dict, file)"
   ]
  },
  {
   "cell_type": "code",
   "execution_count": 35,
   "metadata": {},
   "outputs": [],
   "source": [
    "keys_df = pd.read_csv('keys.csv')\n",
    "notes = keys_df.columns.tolist()[3:]\n",
    "key_dict = {}\n",
    "chord_dict = {}\n",
    "\n",
    "for setting in keys_df['No.'].unique().tolist():\n",
    "    tdf = keys_df[keys_df['No.']==setting]\n",
    "    key_dict[setting] = {}\n",
    "    tchords = []\n",
    "    for note in notes:\n",
    "        tarray = tdf[note].tolist()\n",
    "        tarray = [i for i in tarray if type(i)==type('')]\n",
    "        key_dict[setting][note] = {'Chord':tarray[0], 'Notes':tarray[1:]}\n",
    "        tchords.append(tarray[0])\n",
    "    for chord in tchords:\n",
    "        if chord in chord_dict:\n",
    "            if setting not in chord_dict[chord]:\n",
    "                chord_dict[chord].append(setting)\n",
    "        else:\n",
    "            chord_dict[chord] = [setting]\n",
    "\n",
    "\n",
    "with open('settings.json','w') as file:\n",
    "    json.dump(key_dict, file)\n",
    "\n",
    "with open('chords.json', 'w') as file:\n",
    "    json.dump(chord_dict, file)"
   ]
  }
 ],
 "metadata": {
  "kernelspec": {
   "display_name": "Python 3.9.10 ('geo_env')",
   "language": "python",
   "name": "python3"
  },
  "language_info": {
   "codemirror_mode": {
    "name": "ipython",
    "version": 3
   },
   "file_extension": ".py",
   "mimetype": "text/x-python",
   "name": "python",
   "nbconvert_exporter": "python",
   "pygments_lexer": "ipython3",
   "version": "3.9.10"
  },
  "orig_nbformat": 4,
  "vscode": {
   "interpreter": {
    "hash": "7e3c1800dd02ef59641894d4256118b2c923ce60414efe08a5e35b10a0387ea8"
   }
  }
 },
 "nbformat": 4,
 "nbformat_minor": 2
}
